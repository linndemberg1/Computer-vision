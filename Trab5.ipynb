{
  "nbformat": 4,
  "nbformat_minor": 0,
  "metadata": {
    "colab": {
      "provenance": [],
      "authorship_tag": "ABX9TyNghmUbUfEoHJO0lT5GrA8K",
      "include_colab_link": true
    },
    "kernelspec": {
      "name": "python3",
      "display_name": "Python 3"
    },
    "language_info": {
      "name": "python"
    }
  },
  "cells": [
    {
      "cell_type": "markdown",
      "metadata": {
        "id": "view-in-github",
        "colab_type": "text"
      },
      "source": [
        "<a href=\"https://colab.research.google.com/github/linndemberg1/Computer-vision/blob/main/Trab5.ipynb\" target=\"_parent\"><img src=\"https://colab.research.google.com/assets/colab-badge.svg\" alt=\"Open In Colab\"/></a>"
      ]
    },
    {
      "cell_type": "code",
      "execution_count": 1,
      "metadata": {
        "colab": {
          "base_uri": "https://localhost:8080/",
          "height": 228
        },
        "id": "uPgBSNrM3Chs",
        "outputId": "a2a6034c-858a-4725-f015-4e1905de14e7"
      },
      "outputs": [
        {
          "output_type": "error",
          "ename": "error",
          "evalue": "OpenCV(4.10.0) /io/opencv/modules/calib3d/src/calibration.cpp:3859: error: (-215:Assertion failed) nimages > 0 in function 'calibrateCameraRO'\n",
          "traceback": [
            "\u001b[0;31m---------------------------------------------------------------------------\u001b[0m",
            "\u001b[0;31merror\u001b[0m                                     Traceback (most recent call last)",
            "\u001b[0;32m<ipython-input-1-dbca3fff2d4d>\u001b[0m in \u001b[0;36m<cell line: 46>\u001b[0;34m()\u001b[0m\n\u001b[1;32m     44\u001b[0m \u001b[0;34m\u001b[0m\u001b[0m\n\u001b[1;32m     45\u001b[0m \u001b[0;31m# Calibrar a câmera usando os pontos 3D e 2D\u001b[0m\u001b[0;34m\u001b[0m\u001b[0;34m\u001b[0m\u001b[0m\n\u001b[0;32m---> 46\u001b[0;31m ret, camera_matrix, dist_coeffs, rvecs, tvecs = cv2.calibrateCamera(\n\u001b[0m\u001b[1;32m     47\u001b[0m     \u001b[0mobjpoints\u001b[0m\u001b[0;34m,\u001b[0m \u001b[0mimgpoints\u001b[0m\u001b[0;34m,\u001b[0m \u001b[0mgray\u001b[0m\u001b[0;34m.\u001b[0m\u001b[0mshape\u001b[0m\u001b[0;34m[\u001b[0m\u001b[0;34m:\u001b[0m\u001b[0;34m:\u001b[0m\u001b[0;34m-\u001b[0m\u001b[0;36m1\u001b[0m\u001b[0;34m]\u001b[0m\u001b[0;34m,\u001b[0m \u001b[0;32mNone\u001b[0m\u001b[0;34m,\u001b[0m \u001b[0;32mNone\u001b[0m\u001b[0;34m\u001b[0m\u001b[0;34m\u001b[0m\u001b[0m\n\u001b[1;32m     48\u001b[0m )\n",
            "\u001b[0;31merror\u001b[0m: OpenCV(4.10.0) /io/opencv/modules/calib3d/src/calibration.cpp:3859: error: (-215:Assertion failed) nimages > 0 in function 'calibrateCameraRO'\n"
          ]
        }
      ],
      "source": [
        "import cv2  # Biblioteca para processamento de imagens e visão computacional\n",
        "import numpy as np  # Biblioteca para operações numéricas e manipulação de arrays\n",
        "import glob  # Biblioteca para encontrar todos os nomes de arquivos que correspondem a um padrão específico\n",
        "import matplotlib.pyplot as plt  # Biblioteca para visualização gráfica\n",
        "\n",
        "# Configurações do tabuleiro de xadrez (número de cantos internos do tabuleiro)\n",
        "chessboard_size = (6, 6)  # Define o número de cantos internos do tabuleiro em cada direção (colunas, linhas)\n",
        "frame_size = (3000, 4000)  # Define o tamanho das imagens, se necessário\n",
        "\n",
        "# Critérios para refinar a localização dos cantos do tabuleiro de xadrez\n",
        "criteria = (cv2.TERM_CRITERIA_EPS + cv2.TERM_CRITERIA_MAX_ITER, 30, 0.001)\n",
        "\n",
        "# Preparar pontos do mundo 3D, como (0,0,0), (1,0,0), (2,0,0) ...,(6,5,0)\n",
        "objp = np.zeros((chessboard_size[0] * chessboard_size[1], 3), np.float32)  # Cria uma grade de pontos 3D\n",
        "objp[:, :2] = np.mgrid[0:chessboard_size[0], 0:chessboard_size[1]].T.reshape(-1, 2)  # Define as coordenadas x e y\n",
        "\n",
        "# Vetores para armazenar pontos 3D do mundo e pontos 2D da imagem para todas as imagens\n",
        "objpoints = []  # Pontos 3D no mundo real (fixos)\n",
        "imgpoints = []  # Pontos 2D no plano da imagem (variáveis)\n",
        "\n",
        "# Obter a lista de imagens\n",
        "images = glob.glob('/content/sample_data/imgs/*.png')  # Encontra todas as imagens PNG na pasta especificada\n",
        "\n",
        "# Processar cada imagem\n",
        "for image in images:\n",
        "    img = cv2.imread(image)  # Carrega a imagem\n",
        "    gray = cv2.cvtColor(img, cv2.COLOR_BGR2GRAY)  # Converte a imagem para escala de cinza\n",
        "\n",
        "    # Encontrar os cantos do tabuleiro de xadrez\n",
        "    ret, corners = cv2.findChessboardCorners(gray, chessboard_size, None)  # Detecta os cantos do tabuleiro\n",
        "\n",
        "    if ret == True:  # Se os cantos forem encontrados\n",
        "        objpoints.append(objp)  # Adiciona os pontos 3D fixos à lista\n",
        "\n",
        "        # Refinar a localização dos cantos encontrados\n",
        "        corners2 = cv2.cornerSubPix(gray, corners, (11, 11), (-1, -1), criteria)\n",
        "        imgpoints.append(corners2)  # Adiciona os pontos 2D refinados à lista\n",
        "\n",
        "        # Desenhar e exibir os cantos detectados na imagem\n",
        "        cv2.drawChessboardCorners(img, chessboard_size, corners2, ret)  # Desenha os cantos detectados\n",
        "        plt.figure(figsize=(10, 7))  # Define o tamanho da figura\n",
        "        plt.imshow(cv2.cvtColor(img, cv2.COLOR_BGR2RGB))  # Converte a imagem para RGB e exibe\n",
        "        plt.show()  # Mostra a imagem com os cantos detectados\n",
        "\n",
        "# Calibrar a câmera usando os pontos 3D e 2D\n",
        "ret, camera_matrix, dist_coeffs, rvecs, tvecs = cv2.calibrateCamera(\n",
        "    objpoints, imgpoints, gray.shape[::-1], None, None\n",
        ")\n",
        "\n",
        "# Imprimir os resultados da calibração\n",
        "print(\"Matriz Intrínseca:\\n\", camera_matrix)  # Matriz que relaciona coordenadas do mundo com a imagem\n",
        "print(\"Coeficientes de Distorção:\\n\", dist_coeffs)  # Coeficientes que descrevem a distorção da lente\n",
        "print(\"Vetores de Rotação:\\n\", rvecs)  # Vetores que descrevem a rotação da câmera em relação ao tabuleiro\n",
        "print(\"Vetores de Translação:\\n\", tvecs)  # Vetores que descrevem a translação da câmera em relação ao tabuleiro\n"
      ]
    },
    {
      "cell_type": "code",
      "source": [
        "import cv2  # Biblioteca para processamento de imagens e visão computacional\n",
        "import numpy as np  # Biblioteca para operações numéricas e manipulação de arrays\n",
        "import glob  # Biblioteca para encontrar todos os nomes de arquivos que correspondem a um padrão específico\n",
        "import matplotlib.pyplot as plt  # Biblioteca para visualização gráfica\n",
        "\n",
        "# Configurações do tabuleiro de xadrez (número de cantos internos do tabuleiro)\n",
        "chessboard_size = (6, 6)  # Define o número de cantos internos do tabuleiro em cada direção (colunas, linhas)\n",
        "frame_size = (3000, 4000)  # Define o tamanho das imagens, se necessário\n",
        "\n",
        "# Critérios para refinar a localização dos cantos do tabuleiro de xadrez\n",
        "criteria = (cv2.TERM_CRITERIA_EPS + cv2.TERM_CRITERIA_MAX_ITER, 30, 0.001)\n",
        "\n",
        "# Preparar pontos do mundo 3D, como (0,0,0), (1,0,0), (2,0,0) ...,(6,5,0)\n",
        "objp = np.zeros((chessboard_size[0] * chessboard_size[1], 3), np.float32)  # Cria uma grade de pontos 3D\n",
        "objp[:, :2] = np.mgrid[0:chessboard_size[0], 0:chessboard_size[1]].T.reshape(-1, 2)  # Define as coordenadas x e y\n",
        "\n",
        "# Vetores para armazenar pontos 3D do mundo e pontos 2D da imagem para todas as imagens\n",
        "objpoints = []  # Pontos 3D no mundo real (fixos)\n",
        "imgpoints = []  # Pontos 2D no plano da imagem (variáveis)\n",
        "\n",
        "# Obter a lista de imagens\n",
        "images = glob.glob('/content/sample_data/imgs/*.png')  # Encontra todas as imagens PNG na pasta especificada\n",
        "\n",
        "# Verificar se as imagens foram carregadas corretamente\n",
        "if not images:\n",
        "    print(\"Nenhuma imagem encontrada no caminho especificado.\")\n",
        "else:\n",
        "    print(f\"Total de imagens encontradas: {len(images)}\")\n",
        "\n",
        "# Processar cada imagem\n",
        "for image in images:\n",
        "    img = cv2.imread(image)  # Carrega a imagem\n",
        "    if img is None:\n",
        "        print(f\"Falha ao carregar a imagem: {image}\")\n",
        "        continue\n",
        "\n",
        "    gray = cv2.cvtColor(img, cv2.COLOR_BGR2GRAY)  # Converte a imagem para escala de cinza\n",
        "\n",
        "    # Encontrar os cantos do tabuleiro de xadrez\n",
        "    ret, corners = cv2.findChessboardCorners(gray, chessboard_size, None)  # Detecta os cantos do tabuleiro\n",
        "\n",
        "    if ret:\n",
        "        objpoints.append(objp)  # Adiciona os pontos 3D fixos à lista\n",
        "\n",
        "        # Refinar a localização dos cantos encontrados\n",
        "        corners2 = cv2.cornerSubPix(gray, corners, (11, 11), (-1, -1), criteria)\n",
        "        imgpoints.append(corners2)  # Adiciona os pontos 2D refinados à lista\n",
        "\n",
        "        # Desenhar e exibir os cantos detectados na imagem\n",
        "        cv2.drawChessboardCorners(img, chessboard_size, corners2, ret)  # Desenha os cantos detectados\n",
        "        plt.figure(figsize=(10, 7))  # Define o tamanho da figura\n",
        "        plt.imshow(cv2.cvtColor(img, cv2.COLOR_BGR2RGB))  # Converte a imagem para RGB e exibe\n",
        "        plt.show()  # Mostra a imagem com os cantos detectados\n",
        "    else:\n",
        "        print(f\"Não foi possível encontrar os cantos na imagem: {image}\")\n",
        "\n",
        "# Calibrar a câmera se houver pontos suficientes\n",
        "if objpoints and imgpoints:\n",
        "    ret, camera_matrix, dist_coeffs, rvecs, tvecs = cv2.calibrateCamera(\n",
        "        objpoints, imgpoints, gray.shape[::-1], None, None\n",
        "    )\n",
        "\n",
        "    # Imprimir os resultados da calibração\n",
        "    print(\"Matriz Intrínseca:\\n\", camera_matrix)  # Matriz que relaciona coordenadas do mundo com a imagem\n",
        "    print(\"Coeficientes de Distorção:\\n\", dist_coeffs)  # Coeficientes que descrevem a distorção da lente\n",
        "    print(\"Vetores de Rotação:\\n\", rvecs)  # Vetores que descrevem a rotação da câmera em relação ao tabuleiro\n",
        "    print(\"Vetores de Translação:\\n\", tvecs)  # Vetores que descrevem a translação da câmera em relação ao tabuleiro\n",
        "else:\n",
        "    print(\"Nenhum ponto foi detectado. Verifique as imagens e as configurações do tabuleiro de xadrez.\")\n"
      ],
      "metadata": {
        "colab": {
          "base_uri": "https://localhost:8080/"
        },
        "id": "I6dtwKG0B-xt",
        "outputId": "771a52c0-ed82-4f52-9a04-3333139a8154"
      },
      "execution_count": 2,
      "outputs": [
        {
          "output_type": "stream",
          "name": "stdout",
          "text": [
            "Total de imagens encontradas: 5\n",
            "Não foi possível encontrar os cantos na imagem: /content/sample_data/imgs/tab3.png\n",
            "Não foi possível encontrar os cantos na imagem: /content/sample_data/imgs/tab4.png\n",
            "Não foi possível encontrar os cantos na imagem: /content/sample_data/imgs/tab2.png\n",
            "Não foi possível encontrar os cantos na imagem: /content/sample_data/imgs/tab5.png\n",
            "Não foi possível encontrar os cantos na imagem: /content/sample_data/imgs/tab1.png\n",
            "Nenhum ponto foi detectado. Verifique as imagens e as configurações do tabuleiro de xadrez.\n"
          ]
        }
      ]
    }
  ]
}